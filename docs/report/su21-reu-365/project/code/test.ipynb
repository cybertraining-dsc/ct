{
 "cells": [
  {
   "cell_type": "code",
   "execution_count": 1,
   "metadata": {},
   "outputs": [
    {
     "name": "stdout",
     "output_type": "stream",
     "text": [
      "Hello World\n",
      "xyz\n",
      "\n",
      "+------------------+--------------------------------------------------------------------------------+\n",
      "| Attribute        | Value                                                                          |\n",
      "|------------------+--------------------------------------------------------------------------------|\n",
      "| cpu              |                                                                                |\n",
      "| cpu_count        | 4                                                                              |\n",
      "| frequency        | scpufreq(current=1501.0, min=0.0, max=1501.0)                                  |\n",
      "| mem.available    | 7.4 GiB                                                                        |\n",
      "| mem.free         | 7.4 GiB                                                                        |\n",
      "| mem.percent      | 53.5 %                                                                         |\n",
      "| mem.total        | 15.9 GiB                                                                       |\n",
      "| mem.used         | 8.5 GiB                                                                        |\n",
      "| platform.version | ('10', '10.0.19042', 'SP0', 'Multiprocessor Free')                             |\n",
      "| python           | 3.9.5 (tags/v3.9.5:0a7dcbd, May  3 2021, 17:27:52) [MSC v.1928 64 bit (AMD64)] |\n",
      "| python.pip       | 21.1.2                                                                         |\n",
      "| python.version   | 3.9.5                                                                          |\n",
      "| sys.platform     | win32                                                                          |\n",
      "| uname.machine    | AMD64                                                                          |\n",
      "| uname.node       | DESKTOP-EA6E6F2                                                                |\n",
      "| uname.processor  | Intel64 Family 6 Model 78 Stepping 3, GenuineIntel                             |\n",
      "| uname.release    | 10                                                                             |\n",
      "| uname.system     | Windows                                                                        |\n",
      "| uname.version    | 10.0.19042                                                                     |\n",
      "| user             | Admin                                                                          |\n",
      "+------------------+--------------------------------------------------------------------------------+\n",
      "\n",
      "+-------------+----------+--------+-------+---------------------+-------+-------+-----------------+--------+---------+----------------------------------------------------+\n",
      "| Name        | Status   |   Time |   Sum | Start               | tag   | msg   | Node            | User   | OS      | Version                                            |\n",
      "|-------------+----------+--------+-------+---------------------+-------+-------+-----------------+--------+---------+----------------------------------------------------|\n",
      "| Hello World | ok       |  0.212 | 0.212 | 2021-06-28 18:31:39 |       |       | DESKTOP-EA6E6F2 | Admin  | Windows | ('10', '10.0.19042', 'SP0', 'Multiprocessor Free') |\n",
      "| xyz         | ok       |  0.118 | 0.118 | 2021-06-28 18:31:39 |       |       | DESKTOP-EA6E6F2 | Admin  | Windows | ('10', '10.0.19042', 'SP0', 'Multiprocessor Free') |\n",
      "+-------------+----------+--------+-------+---------------------+-------+-------+-----------------+--------+---------+----------------------------------------------------+\n",
      "\n",
      "# csv,timer,status,time,sum,start,tag,msg,uname.node,user,uname.system,platform.version\n",
      "# csv,Hello World,ok,0.212,0.212,2021-06-28 18:31:39,,None,DESKTOP-EA6E6F2,Admin,Windows,('10', '10.0.19042', 'SP0', 'Multiprocessor Free')\n",
      "# csv,xyz,ok,0.118,0.118,2021-06-28 18:31:39,,None,DESKTOP-EA6E6F2,Admin,Windows,('10', '10.0.19042', 'SP0', 'Multiprocessor Free')\n",
      "\n",
      "{'value': 2, 'name': 'John', 'name1': 'Carlos', 'name2': 'John', 'name3': 'John', 'name4': 'John', 'name5': 'John'}\n",
      "{'name': 'John',\n",
      " 'name1': 'Carlos',\n",
      " 'name2': 'John',\n",
      " 'name3': 'John',\n",
      " 'name4': 'John',\n",
      " 'name5': 'John',\n",
      " 'value': 2}\n"
     ]
    }
   ],
   "source": [
    "import time\r\n",
    "from pprint import pprint\r\n",
    "\r\n",
    "from cloudmesh.common.StopWatch import StopWatch\r\n",
    "from cloudmesh.common.debug import VERBOSE\r\n",
    "\r\n",
    "a = {\"value\": 2, \"name\": \"John\", \"name1\": \"Carlos\", \"name2\": \"John\", \"name3\": \"John\", \"name4\": \"John\", \"name5\": \"John\"}\r\n",
    "\r\n",
    "StopWatch.start(\"Hello World\")\r\n",
    "\r\n",
    "print(\"Hello World\")\r\n",
    "time.sleep(0.2)\r\n",
    "StopWatch.stop(\"Hello World\")\r\n",
    "\r\n",
    "StopWatch.start(\"xyz\")\r\n",
    "time.sleep(0.1)\r\n",
    "print(\"xyz\")\r\n",
    "\r\n",
    "StopWatch.stop(\"xyz\")\r\n",
    "\r\n",
    "StopWatch.benchmark()\r\n",
    "print(a)\r\n",
    "pprint(a)\r\n",
    "VERBOSE(a)\r\n",
    "\r\n",
    "# To be continued\r\n"
   ]
  }
 ],
 "metadata": {
  "interpreter": {
   "hash": "63fd5069d213b44bf678585dea6b12cceca9941eaf7f819626cde1f2670de90d"
  },
  "kernelspec": {
   "display_name": "Python 3.9.5 64-bit",
   "name": "python3"
  },
  "language_info": {
   "codemirror_mode": {
    "name": "ipython",
    "version": 3
   },
   "file_extension": ".py",
   "mimetype": "text/x-python",
   "name": "python",
   "nbconvert_exporter": "python",
   "pygments_lexer": "ipython3",
   "version": "3.9.5"
  },
  "orig_nbformat": 4
 },
 "nbformat": 4,
 "nbformat_minor": 2
}