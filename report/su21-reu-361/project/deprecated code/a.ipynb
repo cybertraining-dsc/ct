{
 "metadata": {
  "language_info": {
   "codemirror_mode": {
    "name": "ipython",
    "version": 3
   },
   "file_extension": ".py",
   "mimetype": "text/x-python",
   "name": "python",
   "nbconvert_exporter": "python",
   "pygments_lexer": "ipython3",
   "version": "3.9.5"
  },
  "orig_nbformat": 4,
  "kernelspec": {
   "name": "python3",
   "display_name": "Python 3.9.5 64-bit (windows store)"
  },
  "interpreter": {
   "hash": "89e8e2a8e383ab40992408293c93832b2c7d8a7e26ebcd9e0952b1e3142b911c"
  }
 },
 "nbformat": 4,
 "nbformat_minor": 2,
 "cells": [
  {
   "cell_type": "code",
   "execution_count": 1,
   "metadata": {
    "pycharm": {
     "is_executing": true
    }
   },
   "outputs": [
    {
     "output_type": "stream",
     "name": "stdout",
     "text": [
      "Hello World\n",
      "xyz\n",
      "\n",
      "+------------------+--------------------------------------------------------------------------------+\n",
      "| Attribute        | Value                                                                          |\n",
      "|------------------+--------------------------------------------------------------------------------|\n",
      "| cpu_count        | 12                                                                             |\n",
      "| mem.available    | 6.6 GiB                                                                        |\n",
      "| mem.free         | 6.6 GiB                                                                        |\n",
      "| mem.percent      | 58.9 %                                                                         |\n",
      "| mem.total        | 16.0 GiB                                                                       |\n",
      "| mem.used         | 9.4 GiB                                                                        |\n",
      "| platform.version | ('10', '10.0.19041', 'SP0', 'Multiprocessor Free')                             |\n",
      "| python           | 3.9.5 (tags/v3.9.5:0a7dcbd, May  3 2021, 17:27:52) [MSC v.1928 64 bit (AMD64)] |\n",
      "| python.pip       | 21.1.2                                                                         |\n",
      "| python.version   | 3.9.5                                                                          |\n",
      "| sys.platform     | win32                                                                          |\n",
      "| uname.machine    | AMD64                                                                          |\n",
      "| uname.node       | Sledgehammer                                                                   |\n",
      "| uname.processor  | AMD64 Family 23 Model 113 Stepping 0, AuthenticAMD                             |\n",
      "| uname.release    | 10                                                                             |\n",
      "| uname.system     | Windows                                                                        |\n",
      "| uname.version    | 10.0.19041                                                                     |\n",
      "| user             | Sledgehammer                                                                   |\n",
      "+------------------+--------------------------------------------------------------------------------+\n",
      "\n",
      "+-------------+----------+--------+-------+---------------------+-------+--------------+--------------+---------+----------------------------------------------------+\n",
      "| Name        | Status   |   Time |   Sum | Start               | tag   | Node         | User         | OS      | Version                                            |\n",
      "|-------------+----------+--------+-------+---------------------+-------+--------------+--------------+---------+----------------------------------------------------|\n",
      "| Hello World | ok       |  0.214 | 0.214 | 2021-06-19 20:35:46 |       | Sledgehammer | Sledgehammer | Windows | ('10', '10.0.19041', 'SP0', 'Multiprocessor Free') |\n",
      "| xyz         | ok       |  0.113 | 0.113 | 2021-06-19 20:35:46 |       | Sledgehammer | Sledgehammer | Windows | ('10', '10.0.19041', 'SP0', 'Multiprocessor Free') |\n",
      "+-------------+----------+--------+-------+---------------------+-------+--------------+--------------+---------+----------------------------------------------------+\n",
      "\n",
      "# csv,timer,status,time,sum,start,tag,uname.node,user,uname.system,platform.version\n",
      "# csv,Hello World,ok,0.214,0.214,2021-06-19 20:35:46,,Sledgehammer,Sledgehammer,Windows,('10', '10.0.19041', 'SP0', 'Multiprocessor Free')\n",
      "# csv,xyz,ok,0.113,0.113,2021-06-19 20:35:46,,Sledgehammer,Sledgehammer,Windows,('10', '10.0.19041', 'SP0', 'Multiprocessor Free')\n",
      "\n",
      "{'value': 2, 'name': 'J.P.', 'name1': 'Charlie', 'name2': 'Laura', 'name3': 'Z', 'name4': 'Julianne', 'name5': 'Ryan'}\n",
      "{'name': 'J.P.',\n",
      " 'name1': 'Charlie',\n",
      " 'name2': 'Laura',\n",
      " 'name3': 'Z',\n",
      " 'name4': 'Julianne',\n",
      " 'name5': 'Ryan',\n",
      " 'value': 2}\n",
      "hallo\n"
     ]
    }
   ],
   "source": [
    "import time\n",
    "from pprint import pprint\n",
    "\n",
    "from work import work\n",
    "\n",
    "from cloudmesh.common.StopWatch import StopWatch\n",
    "from cloudmesh.common.debug import VERBOSE\n",
    "\n",
    "a = {\"value\": 2, \"name\": \"J.P.\", \"name1\": \"Charlie\", \"name2\": \"Laura\", \"name3\": \"Z\", \"name4\": \"Julianne\", \"name5\": \"Ryan\"}\n",
    "\n",
    "StopWatch.start(\"Hello World\")\n",
    "\n",
    "print(\"Hello World\")\n",
    "time.sleep(0.2)\n",
    "StopWatch.stop(\"Hello World\")\n",
    "\n",
    "StopWatch.start(\"xyz\")\n",
    "time.sleep(0.1)\n",
    "print(\"xyz\")\n",
    "\n",
    "StopWatch.stop(\"xyz\")\n",
    "\n",
    "StopWatch.benchmark()\n",
    "print(a)\n",
    "pprint(a)\n",
    "# VERBOSE(a)\n",
    "\n",
    "work(\"hallo\")"
   ]
  },
  {
   "cell_type": "code",
   "execution_count": null,
   "metadata": {},
   "outputs": [],
   "source": []
  }
 ]
}