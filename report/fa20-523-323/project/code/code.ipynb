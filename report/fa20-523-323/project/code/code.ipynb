{
  "nbformat": 4,
  "nbformat_minor": 0,
  "metadata": {
    "colab": {
      "name": "code.ipynb",
      "provenance": [],
      "collapsed_sections": []
    },
    "kernelspec": {
      "name": "python3",
      "display_name": "Python 3"
    }
  },
  "cells": [
    {
      "cell_type": "code",
      "metadata": {
        "id": "qsOQgk6WNMO1"
      },
      "source": [
        "#Author:  Anthony Tugman\n",
        "#Title:   Predicting Hotel Reservation Cancellation Rates\n",
        "#Course:   E599 - Big Data\n",
        "#Description: Implementation of a basic pythonic framework for predicting hotel reservation cancellation rates"
      ],
      "execution_count": 23,
      "outputs": []
    },
    {
      "cell_type": "code",
      "metadata": {
        "id": "GfFxur1Hbp_y"
      },
      "source": [
        "pip install cloudmesh-common -U"
      ],
      "execution_count": null,
      "outputs": []
    },
    {
      "cell_type": "code",
      "metadata": {
        "id": "q0YeaoddRloo"
      },
      "source": [
        "#Import required libraries and dependencies\n",
        "from cloudmesh.common.StopWatch import StopWatch\n",
        "import pandas as pd\n",
        "import numpy as np\n",
        "from sklearn.model_selection import train_test_split\n",
        "from sklearn.ensemble import *\n",
        "from matplotlib import pyplot as plt\n",
        "import seaborn as sns\n",
        "import pydot"
      ],
      "execution_count": 25,
      "outputs": []
    },
    {
      "cell_type": "code",
      "metadata": {
        "id": "9j6etJhZUtx7"
      },
      "source": [
        "#Import dataset into pandas dataframe\n",
        "StopWatch.start(\"Code Execution\")\n",
        "StopWatch.start(\"Data Load\")\n",
        "df = pd.read_csv(\"https://raw.githubusercontent.com/cybertraining-dsc/fa20-523-323/main/project/dataset/hotel_bookings.csv\")\n",
        "StopWatch.stop(\"Data Load\")\n",
        "StopWatch.status(\"Data Load\", True)"
      ],
      "execution_count": 26,
      "outputs": []
    },
    {
      "cell_type": "code",
      "metadata": {
        "id": "_okoYJCKbdHl"
      },
      "source": [
        "#Determine initial attributes of data\n",
        "StopWatch.start(\"Prepare Data\")\n",
        "print(\"shape: \",df.shape)\n",
        "print(\"duplicate: \",df.duplicated().sum())"
      ],
      "execution_count": null,
      "outputs": []
    },
    {
      "cell_type": "markdown",
      "metadata": {
        "id": "h1VGEQ_4cGAB"
      },
      "source": [
        "shape:  (119390, 32)\n",
        "duplicate:  31994\n",
        "\n"
      ]
    },
    {
      "cell_type": "code",
      "metadata": {
        "id": "TarMZ586dFHg"
      },
      "source": [
        "#Remove categories\n",
        "df.drop(['country', 'agent', 'babies', 'company', 'children',\n",
        "        'reservation_status_date'],axis=1, inplace=True)\n",
        "\n",
        "#Remove duplicates\n",
        "df.drop_duplicates(inplace=True)"
      ],
      "execution_count": 28,
      "outputs": []
    },
    {
      "cell_type": "code",
      "metadata": {
        "id": "EU8Q4OUhdTPC"
      },
      "source": [
        "#Determine if room need was met\n",
        "#Create new category\n",
        "df['room_correct'] = (df['reserved_room_type'] == df['assigned_room_type'])\n",
        "df.drop(['reserved_room_type', 'assigned_room_type'],axis=1, inplace=True)"
      ],
      "execution_count": 29,
      "outputs": []
    },
    {
      "cell_type": "code",
      "metadata": {
        "id": "tw-WOaQVdyGZ"
      },
      "source": [
        "#Convert strings to numerical values\n",
        "df = df.replace(['City Hotel', 'HB', 'Online TA', 'TA/TO', 'No Deposit', \n",
        "                 'Transient', 'Check-Out'],'0')\n",
        "df = df.replace(['Resort Hotel', 'January', 'BB', 'Offline TA/TO', 'GDS', \n",
        "                 'Non Refund', 'Transient-Party', 'Canceled'],'1')\n",
        "df = df.replace(['February', 'SC', 'Groups', 'Refundable', 'Group', \n",
        "                 'No-Show'],'2')\n",
        "df = df.replace(['March', 'FB', 'Direct', 'Contract'],'3')\n",
        "df = df.replace(['April', 'Undefined', 'Corporate'],'4')\n",
        "df = df.replace(['May', 'Complementary'], '5')\n",
        "df = df.replace(['June', 'Aviation'], '6')\n",
        "df = df.replace(['July'], '7')\n",
        "df = df.replace(['August'], '8')\n",
        "df = df.replace(['September'], '9')\n",
        "df = df.replace(['October'], '10')\n",
        "df = df.replace(['November'], '11')\n",
        "df = df.replace(['December'], '12')\n",
        "df['room_correct'] = df['room_correct'].astype(int)\n",
        "\n",
        "#Remove duplicate and null values\n",
        "df.drop_duplicates(inplace=True)\n",
        "df.dropna()"
      ],
      "execution_count": null,
      "outputs": []
    },
    {
      "cell_type": "code",
      "metadata": {
        "id": "Sj2KwGAne9h4"
      },
      "source": [
        "#Determine data attributes after processing\n",
        "print(\"shape: \",df.shape)\n",
        "print(\"duplicate: \",df.duplicated().sum())\n",
        "StopWatch.stop(\"Prepare Data\")\n",
        "StopWatch.status(\"Prepare Data\", True)"
      ],
      "execution_count": null,
      "outputs": []
    },
    {
      "cell_type": "code",
      "metadata": {
        "id": "pLONSqW5jYS3"
      },
      "source": [
        "X=df[['hotel', 'lead_time', 'arrival_date_year', 'arrival_date_month', 'arrival_date_week_number', 'arrival_date_day_of_month',\n",
        "      'stays_in_weekend_nights', 'stays_in_week_nights', 'adults',  'meal', 'market_segment', 'distribution_channel',\n",
        "      'is_repeated_guest', 'previous_cancellations', 'previous_bookings_not_canceled', 'booking_changes', 'deposit_type',\n",
        "      'days_in_waiting_list', 'customer_type', 'adr', 'required_car_parking_spaces', 'total_of_special_requests', 'room_correct']]\n",
        "\n",
        "#labels\n",
        "Y=df[['is_canceled']]\n",
        "\n",
        "#split into training and testing sets\n",
        "StopWatch.start(\"Generate Model 1\")\n",
        "X_train, X_test, y_train, y_test = train_test_split(X, Y, test_size=0.4)\n",
        "classifier = RandomForestClassifier()\n",
        "classifier.fit(X_train, y_train.values.ravel())\n",
        "y_pred = classifier.predict(X_test)\n",
        "StopWatch.stop(\"Generate Model 1\")\n",
        "StopWatch.status(\"Generate Model 1\", True)\n",
        "count = y_pred.sum()\n",
        "count1 = y_test.sum()\n",
        "accuracy = (count/count1) * 100\n",
        "print(accuracy)"
      ],
      "execution_count": null,
      "outputs": []
    },
    {
      "cell_type": "code",
      "metadata": {
        "id": "ZNwS5EoL4lXq"
      },
      "source": [
        "importance = classifier.feature_importances_\n",
        "for i,v in enumerate(importance):\n",
        "\tprint('Feature: %0d, Score: %.2f' % (i,v))"
      ],
      "execution_count": null,
      "outputs": []
    },
    {
      "cell_type": "code",
      "metadata": {
        "id": "SfQr46w06Dp7"
      },
      "source": [
        "#Using Pearson Correlation\n",
        "plt.figure(figsize=(12,10))\n",
        "cor = df.corr()\n",
        "sns.heatmap(cor, annot=True, cmap=plt.cm.Reds)\n",
        "plt.show()"
      ],
      "execution_count": null,
      "outputs": []
    },
    {
      "cell_type": "code",
      "metadata": {
        "id": "eV6ZCFly6OWf"
      },
      "source": [
        "cor_target = abs(cor[\"is_canceled\"])\n",
        "#Selecting highly correlated features\n",
        "relevant_features = cor_target[cor_target>0.1]\n",
        "relevant_features"
      ],
      "execution_count": null,
      "outputs": []
    },
    {
      "cell_type": "code",
      "metadata": {
        "id": "eDvJx6js6f9I"
      },
      "source": [
        "#Remove unnecessary features\n",
        "X1=df[['lead_time', 'adr', 'room_correct']]\n",
        "Y=df[['is_canceled']]\n",
        "\n",
        "#split into training and testing sets\n",
        "\n",
        "StopWatch.start(\"Generate Model 2\")\n",
        "X_train, X_test, y_train, y_test = train_test_split(X1, Y, test_size=0.4)\n",
        "classifier = RandomForestClassifier()\n",
        "classifier.fit(X_train, y_train.values.ravel())\n",
        "y_pred = classifier.predict(X_test)\n",
        "StopWatch.stop(\"Generate Model 2\")\n",
        "StopWatch.status(\"Generate Model 2\", True)\n",
        "count = y_pred.sum()\n",
        "count1 = y_test.sum()\n",
        "accuracy = (count/count1) * 100\n",
        "print(accuracy)"
      ],
      "execution_count": null,
      "outputs": []
    },
    {
      "cell_type": "code",
      "metadata": {
        "id": "JEABDV8j-8Vq"
      },
      "source": [
        "#Using Pearson Correlation to show final correlation\n",
        "X2=df[['lead_time', 'adr',  'total_of_special_requests', 'room_correct', 'is_canceled']]\n",
        "plt.figure(figsize=(12,10))\n",
        "cor = X2.corr()\n",
        "sns.heatmap(cor, annot=True, cmap=plt.cm.Reds)\n",
        "plt.show()"
      ],
      "execution_count": null,
      "outputs": []
    },
    {
      "cell_type": "code",
      "metadata": {
        "id": "fMs_pmS5A7_2"
      },
      "source": [
        "#Graph Predicted vs. Actual Values\n",
        "plt.figure(figsize=(12, 10))\n",
        "ax = sns.distplot(y_test, hist=False, color=\"r\", label=\"Actual Values\")\n",
        "sns.distplot(y_pred, hist=False, color=\"b\", label=\"Predicted Values\" , ax=ax)\n",
        "plt.title('Actual vs Predicted Values for Cancellation')\n",
        "plt.show()\n",
        "plt.close()"
      ],
      "execution_count": null,
      "outputs": []
    },
    {
      "cell_type": "code",
      "metadata": {
        "id": "FCVWeBrlRBNn"
      },
      "source": [
        "StopWatch.stop(\"Code Execution\")\n",
        "StopWatch.status(\"Code Execution\", True)\n",
        "StopWatch.benchmark()"
      ],
      "execution_count": null,
      "outputs": []
    }
  ]
}