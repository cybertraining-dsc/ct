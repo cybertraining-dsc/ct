{
  "nbformat": 4,
  "nbformat_minor": 0,
  "metadata": {
    "colab": {
      "name": "Copy of Multivariate",
      "provenance": []
    },
    "kernelspec": {
      "name": "python3",
      "display_name": "Python 3"
    }
  },
  "cells": [
    {
      "cell_type": "markdown",
      "metadata": {
        "id": "DoQ0RhSY-NOY"
      },
      "source": [
        "Import libraries"
      ]
    },
    {
      "cell_type": "code",
      "metadata": {
        "colab": {
          "base_uri": "https://localhost:8080/"
        },
        "id": "__wWRUxehXSF",
        "outputId": "ca5f3cca-2776-4c02-9aa9-3cae4516ffcb"
      },
      "source": [
        "#! pip install cloudmesh-common -U\n",
        "from cloudmesh.common.StopWatch import StopWatch\n"
      ],
      "execution_count": 69,
      "outputs": [
        {
          "output_type": "stream",
          "text": [
            "Collecting cloudmesh-common\n",
            "\u001b[?25l  Downloading https://files.pythonhosted.org/packages/bd/23/496777cacf27161952ab88fd96b22cbde3a2ae889b76b964e5923f81783c/cloudmesh_common-4.3.29-py2.py3-none-any.whl (76kB)\n",
            "\r\u001b[K     |████▎                           | 10kB 6.8MB/s eta 0:00:01\r\u001b[K     |████████▌                       | 20kB 10.9MB/s eta 0:00:01\r\u001b[K     |████████████▉                   | 30kB 10.3MB/s eta 0:00:01\r\u001b[K     |█████████████████               | 40kB 8.3MB/s eta 0:00:01\r\u001b[K     |█████████████████████▎          | 51kB 4.3MB/s eta 0:00:01\r\u001b[K     |█████████████████████████▋      | 61kB 4.9MB/s eta 0:00:01\r\u001b[K     |█████████████████████████████▉  | 71kB 4.9MB/s eta 0:00:01\r\u001b[K     |████████████████████████████████| 81kB 3.5MB/s \n",
            "\u001b[?25hRequirement already satisfied, skipping upgrade: python-dateutil in /usr/local/lib/python3.6/dist-packages (from cloudmesh-common) (2.8.1)\n",
            "Requirement already satisfied, skipping upgrade: requests in /usr/local/lib/python3.6/dist-packages (from cloudmesh-common) (2.23.0)\n",
            "Collecting simplejson\n",
            "\u001b[?25l  Downloading https://files.pythonhosted.org/packages/73/96/1e6b19045375890068d7342cbe280dd64ae73fd90b9735b5efb8d1e044a1/simplejson-3.17.2-cp36-cp36m-manylinux2010_x86_64.whl (127kB)\n",
            "\u001b[K     |████████████████████████████████| 133kB 7.8MB/s \n",
            "\u001b[?25hRequirement already satisfied, skipping upgrade: pathlib in /usr/local/lib/python3.6/dist-packages (from cloudmesh-common) (1.0.1)\n",
            "Requirement already satisfied, skipping upgrade: pytz in /usr/local/lib/python3.6/dist-packages (from cloudmesh-common) (2018.9)\n",
            "Requirement already satisfied, skipping upgrade: humanize in /usr/local/lib/python3.6/dist-packages (from cloudmesh-common) (0.5.1)\n",
            "Requirement already satisfied, skipping upgrade: psutil in /usr/local/lib/python3.6/dist-packages (from cloudmesh-common) (5.4.8)\n",
            "Collecting oyaml\n",
            "  Downloading https://files.pythonhosted.org/packages/37/aa/111610d8bf5b1bb7a295a048fc648cec346347a8b0be5881defd2d1b4a52/oyaml-1.0-py2.py3-none-any.whl\n",
            "Collecting python-hostlist\n",
            "  Downloading https://files.pythonhosted.org/packages/2b/4f/f31dd4b4bf1a57a5c29599e1165d0df70dbdddcfa59a7c1d04ee2ff4ccbd/python-hostlist-1.21.tar.gz\n",
            "Collecting colorama\n",
            "  Downloading https://files.pythonhosted.org/packages/44/98/5b86278fbbf250d239ae0ecb724f8572af1c91f4a11edf4d36a206189440/colorama-0.4.4-py2.py3-none-any.whl\n",
            "Requirement already satisfied, skipping upgrade: tabulate in /usr/local/lib/python3.6/dist-packages (from cloudmesh-common) (0.8.7)\n",
            "Requirement already satisfied, skipping upgrade: six>=1.5 in /usr/local/lib/python3.6/dist-packages (from python-dateutil->cloudmesh-common) (1.15.0)\n",
            "Requirement already satisfied, skipping upgrade: certifi>=2017.4.17 in /usr/local/lib/python3.6/dist-packages (from requests->cloudmesh-common) (2020.11.8)\n",
            "Requirement already satisfied, skipping upgrade: urllib3!=1.25.0,!=1.25.1,<1.26,>=1.21.1 in /usr/local/lib/python3.6/dist-packages (from requests->cloudmesh-common) (1.24.3)\n",
            "Requirement already satisfied, skipping upgrade: idna<3,>=2.5 in /usr/local/lib/python3.6/dist-packages (from requests->cloudmesh-common) (2.10)\n",
            "Requirement already satisfied, skipping upgrade: chardet<4,>=3.0.2 in /usr/local/lib/python3.6/dist-packages (from requests->cloudmesh-common) (3.0.4)\n",
            "Requirement already satisfied, skipping upgrade: pyyaml in /usr/local/lib/python3.6/dist-packages (from oyaml->cloudmesh-common) (3.13)\n",
            "Building wheels for collected packages: python-hostlist\n",
            "  Building wheel for python-hostlist (setup.py) ... \u001b[?25l\u001b[?25hdone\n",
            "  Created wheel for python-hostlist: filename=python_hostlist-1.21-cp36-none-any.whl size=38932 sha256=252f3ca38fa37c74342bb92f2eb6c1876ed002cda5f854efe85219191c7cb547\n",
            "  Stored in directory: /root/.cache/pip/wheels/0b/5b/55/ddcf52288f0b10f4564ca1b2531594ff7ccc65f487ba8dc437\n",
            "Successfully built python-hostlist\n",
            "Installing collected packages: simplejson, oyaml, python-hostlist, colorama, cloudmesh-common\n",
            "Successfully installed cloudmesh-common-4.3.29 colorama-0.4.4 oyaml-1.0 python-hostlist-1.21 simplejson-3.17.2\n"
          ],
          "name": "stdout"
        }
      ]
    },
    {
      "cell_type": "code",
      "metadata": {
        "id": "jQrsyiji-sAU"
      },
      "source": [
        "#!wget http://prdownloads.sourceforge.net/ta-lib/ta-lib-0.4.0-src.tar.gz\n",
        "#!tar -xzvf ta-lib-0.4.0-src.tar.gz\n",
        "#%cd ta-lib\n",
        "#!./configure --prefix=/usr\n",
        "#!make\n",
        "#!make install\n",
        "#!pip install Ta-Lib"
      ],
      "execution_count": null,
      "outputs": []
    },
    {
      "cell_type": "code",
      "metadata": {
        "id": "S-ZnqZ2C-Hqr"
      },
      "source": [
        "import numpy as np\n",
        "import pandas as pd\n",
        "import matplotlib.pyplot as plt\n",
        "import datetime as dt\n",
        "from datetime import datetime\n",
        "\n",
        "from keras.callbacks import EarlyStopping, ReduceLROnPlateau, ModelCheckpoint, TensorBoard"
      ],
      "execution_count": 16,
      "outputs": []
    },
    {
      "cell_type": "markdown",
      "metadata": {
        "id": "NfxL7d3D-2l_"
      },
      "source": [
        "Import data and select the features to be inputted into the LSTM model"
      ]
    },
    {
      "cell_type": "code",
      "metadata": {
        "id": "tO3xOT7K-M7w"
      },
      "source": [
        "#Import Data\n",
        "daily_url = 'https://raw.githubusercontent.com/cybertraining-dsc/fa20-523-313/main/dailydf.csv'\n",
        "StopWatch.start(\"import data\")\n",
        "daily_df = pd.read_csv(daily_url)\n",
        "StopWatch.stop(\"import data\")\n",
        "StopWatch.status(\"import data\", True)\n",
        "#Select the features to be inputted into the LSTM model\n",
        "cols = list(daily_df)[2:10]\n",
        "\n",
        "\n",
        "\n"
      ],
      "execution_count": 75,
      "outputs": []
    },
    {
      "cell_type": "code",
      "metadata": {
        "colab": {
          "base_uri": "https://localhost:8080/",
          "height": 204
        },
        "id": "1s5lK89WbgBe",
        "outputId": "45b7e13e-8b6e-4df9-a05e-121cc3dfc2a5"
      },
      "source": [
        "daily_df.head()"
      ],
      "execution_count": 35,
      "outputs": [
        {
          "output_type": "execute_result",
          "data": {
            "text/html": [
              "<div>\n",
              "<style scoped>\n",
              "    .dataframe tbody tr th:only-of-type {\n",
              "        vertical-align: middle;\n",
              "    }\n",
              "\n",
              "    .dataframe tbody tr th {\n",
              "        vertical-align: top;\n",
              "    }\n",
              "\n",
              "    .dataframe thead th {\n",
              "        text-align: right;\n",
              "    }\n",
              "</style>\n",
              "<table border=\"1\" class=\"dataframe\">\n",
              "  <thead>\n",
              "    <tr style=\"text-align: right;\">\n",
              "      <th></th>\n",
              "      <th>Unnamed: 0</th>\n",
              "      <th>Date</th>\n",
              "      <th>Open</th>\n",
              "      <th>High</th>\n",
              "      <th>Low</th>\n",
              "      <th>Close</th>\n",
              "      <th>Volume</th>\n",
              "      <th>macd</th>\n",
              "      <th>macdsignal</th>\n",
              "      <th>macdhist</th>\n",
              "    </tr>\n",
              "  </thead>\n",
              "  <tbody>\n",
              "    <tr>\n",
              "      <th>0</th>\n",
              "      <td>68</td>\n",
              "      <td>4/18/2000</td>\n",
              "      <td>530.062012</td>\n",
              "      <td>536.622009</td>\n",
              "      <td>525.768982</td>\n",
              "      <td>528.258972</td>\n",
              "      <td>3961700</td>\n",
              "      <td>-27.483774</td>\n",
              "      <td>-30.106387</td>\n",
              "      <td>2.622614</td>\n",
              "    </tr>\n",
              "    <tr>\n",
              "      <th>1</th>\n",
              "      <td>69</td>\n",
              "      <td>4/19/2000</td>\n",
              "      <td>528.206970</td>\n",
              "      <td>530.961975</td>\n",
              "      <td>524.807983</td>\n",
              "      <td>526.299988</td>\n",
              "      <td>4194800</td>\n",
              "      <td>-28.220101</td>\n",
              "      <td>-29.907831</td>\n",
              "      <td>1.687730</td>\n",
              "    </tr>\n",
              "    <tr>\n",
              "      <th>2</th>\n",
              "      <td>70</td>\n",
              "      <td>4/20/2000</td>\n",
              "      <td>526.299988</td>\n",
              "      <td>526.395996</td>\n",
              "      <td>519.213013</td>\n",
              "      <td>526.395996</td>\n",
              "      <td>2201000</td>\n",
              "      <td>-28.782709</td>\n",
              "      <td>-29.789397</td>\n",
              "      <td>1.006688</td>\n",
              "    </tr>\n",
              "    <tr>\n",
              "      <th>3</th>\n",
              "      <td>71</td>\n",
              "      <td>4/24/2000</td>\n",
              "      <td>526.078979</td>\n",
              "      <td>530.848999</td>\n",
              "      <td>524.443970</td>\n",
              "      <td>530.848999</td>\n",
              "      <td>1693500</td>\n",
              "      <td>-29.005682</td>\n",
              "      <td>-29.706901</td>\n",
              "      <td>0.701218</td>\n",
              "    </tr>\n",
              "    <tr>\n",
              "      <th>4</th>\n",
              "      <td>72</td>\n",
              "      <td>4/25/2000</td>\n",
              "      <td>529.731018</td>\n",
              "      <td>529.731018</td>\n",
              "      <td>515.619995</td>\n",
              "      <td>519.043030</td>\n",
              "      <td>2908500</td>\n",
              "      <td>-29.614482</td>\n",
              "      <td>-29.697172</td>\n",
              "      <td>0.082690</td>\n",
              "    </tr>\n",
              "  </tbody>\n",
              "</table>\n",
              "</div>"
            ],
            "text/plain": [
              "   Unnamed: 0       Date        Open  ...       macd  macdsignal  macdhist\n",
              "0          68  4/18/2000  530.062012  ... -27.483774  -30.106387  2.622614\n",
              "1          69  4/19/2000  528.206970  ... -28.220101  -29.907831  1.687730\n",
              "2          70  4/20/2000  526.299988  ... -28.782709  -29.789397  1.006688\n",
              "3          71  4/24/2000  526.078979  ... -29.005682  -29.706901  0.701218\n",
              "4          72  4/25/2000  529.731018  ... -29.614482  -29.697172  0.082690\n",
              "\n",
              "[5 rows x 10 columns]"
            ]
          },
          "metadata": {
            "tags": []
          },
          "execution_count": 35
        }
      ]
    },
    {
      "cell_type": "code",
      "metadata": {
        "colab": {
          "base_uri": "https://localhost:8080/"
        },
        "id": "RjY_uto2bawO",
        "outputId": "370034c4-f44d-4cdf-c92e-988dbe7c995b"
      },
      "source": [
        "daily_df['Date'] = pd.to_datetime(daily_df['Date'])\n",
        "daily_df.index = daily_df['Date']\n",
        "slice_df = pd.to_datetime(\"2015-01-01\")\n",
        "daily_df = daily_df.loc[slice_df:]\n",
        "daily_df.shape"
      ],
      "execution_count": 77,
      "outputs": [
        {
          "output_type": "execute_result",
          "data": {
            "text/plain": [
              "(1428, 10)"
            ]
          },
          "metadata": {
            "tags": []
          },
          "execution_count": 77
        }
      ]
    },
    {
      "cell_type": "markdown",
      "metadata": {
        "id": "Nn-UOpNM_1l5"
      },
      "source": [
        "Split the train and test data, and extract the dates for indexing in the plot visualization"
      ]
    },
    {
      "cell_type": "code",
      "metadata": {
        "colab": {
          "base_uri": "https://localhost:8080/"
        },
        "id": "0R-DJ4ie_38N",
        "outputId": "8d3cb820-96b4-4062-ed01-ce45597412f2"
      },
      "source": [
        "from sklearn.model_selection import train_test_split\n",
        "dataset_train, dataset_test = train_test_split(daily_df, train_size=0.80, test_size = 0.20, shuffle = False)\n",
        "\n",
        "# Extract dates of training data\n",
        "datelist_train = list(dataset_train['Date'])\n",
        "#datelist_train = [dt.datetime.strptime(date, '%m/%d/%Y').date() for date in datelist_train]\n",
        "\n",
        "# Extract dates of testing data\n",
        "datelist_test = list(dataset_test['Date'])\n",
        "#datelist_test = [dt.datetime.strptime(date, '%m/%d/%Y').date() for date in datelist_test]\n",
        "\n",
        "dataset_train = dataset_train[cols].astype(str)\n",
        "dataset_train = dataset_train.astype(float)\n",
        "\n",
        "dataset_test = dataset_test[cols].astype(str)\n",
        "dataset_test = dataset_test.astype(float)\n",
        "\n",
        "training_set = dataset_train.values\n",
        "testing_set = dataset_test.values\n",
        "\n",
        "print('Shape of training set == {}.'.format(training_set.shape))\n",
        "print('Selected features: {}'.format(cols))"
      ],
      "execution_count": 78,
      "outputs": [
        {
          "output_type": "stream",
          "text": [
            "Shape of training set == (1142, 8).\n",
            "Selected features: ['Open', 'High', 'Low', 'Close', 'Volume', 'macd', 'macdsignal', 'macdhist']\n"
          ],
          "name": "stdout"
        }
      ]
    },
    {
      "cell_type": "markdown",
      "metadata": {
        "id": "YA5X7qNbV4B-"
      },
      "source": [
        "Scaling the features before inputted into the LSTM model"
      ]
    },
    {
      "cell_type": "code",
      "metadata": {
        "id": "tZ9Qq3_fADsV"
      },
      "source": [
        "from sklearn.preprocessing import StandardScaler\n",
        "sc = StandardScaler()\n",
        "training_set_scaled = sc.fit_transform(training_set)\n",
        "testing_set_scaled = sc.fit_transform(testing_set)\n",
        "\n",
        "#sc_predict = StandardScaler()\n",
        "#sc_predict.fit_transform(training_set[:, 0:1])\n"
      ],
      "execution_count": 79,
      "outputs": []
    },
    {
      "cell_type": "markdown",
      "metadata": {
        "id": "XiPUX149WTVm"
      },
      "source": [
        "Selecting the time step windows."
      ]
    },
    {
      "cell_type": "code",
      "metadata": {
        "colab": {
          "base_uri": "https://localhost:8080/"
        },
        "id": "NOJ2mLlpAM10",
        "outputId": "d920d66a-69cf-4af4-f24d-aab0547d66cb"
      },
      "source": [
        "StopWatch.start(\"Creating the train and test data\")\n",
        "X_train = []\n",
        "y_train = []\n",
        "\n",
        "x_test = []\n",
        "y_test = []\n",
        "\n",
        "n_future = 1   # Number of days we want top predict into the future\n",
        "n_past = 90     # Number of past days we want to use to predict the future\n",
        "\n",
        "for i in range(n_past, len(training_set_scaled) - n_future +1):    \n",
        "    X_train.append(training_set_scaled[i - n_past:i, 0:dataset_train.shape[1]])\n",
        "    y_train.append(training_set_scaled[i + n_future - 1:i + n_future, 0])\n",
        "\n",
        "for i in range(n_past, len(testing_set_scaled) - n_future +1):    \n",
        "    x_test.append(testing_set_scaled[i - n_past:i, 0:dataset_train.shape[1]])\n",
        "    y_test.append(testing_set_scaled[i + n_future - 1:i + n_future, 0])\n",
        "#X_train takes the Open, High, Low, and Close, to predict y_train which is the Open price for 60 days after\n",
        "X_train, y_train = np.array(X_train), np.array(y_train)\n",
        "x_test, y_test = np.array(x_test), np.array(y_test)\n",
        "\n",
        "StopWatch.stop(\"Creating the train and test data\")\n",
        "StopWatch.status(\"Creating the train and test data\", True)\n",
        "\n",
        "print('X_train shape == {}.'.format(X_train.shape))\n",
        "print('y_train shape == {}.'.format(y_train.shape))\n",
        "\n",
        "print('x_test shape == {}.'.format(x_test.shape))\n",
        "print('y_test shape == {}.'.format(y_test.shape))"
      ],
      "execution_count": 80,
      "outputs": [
        {
          "output_type": "stream",
          "text": [
            "X_train shape == (1052, 90, 8).\n",
            "y_train shape == (1052, 1).\n",
            "x_test shape == (196, 90, 8).\n",
            "y_test shape == (196, 1).\n"
          ],
          "name": "stdout"
        }
      ]
    },
    {
      "cell_type": "markdown",
      "metadata": {
        "id": "o9yu0jf5DkWD"
      },
      "source": [
        "LSTM Model"
      ]
    },
    {
      "cell_type": "code",
      "metadata": {
        "id": "0L_Fta-tDnD3"
      },
      "source": [
        "# Import Libraries and packages from Keras\n",
        "from keras.models import Sequential\n",
        "from keras.layers import Dense\n",
        "from keras.layers import LSTM\n",
        "from keras.layers import Dropout\n",
        "from keras.optimizers import Adam"
      ],
      "execution_count": 81,
      "outputs": []
    },
    {
      "cell_type": "code",
      "metadata": {
        "id": "RnUq9bLeDrJq"
      },
      "source": [
        "# Initializing the Neural Network based on LSTM\n",
        "model = Sequential()\n",
        "\n",
        "# Adding 1st LSTM layer\n",
        "#model.add(LSTM(units=64, return_sequences=True, input_shape=(n_past, dataset_train.shape[1]-1)))\n",
        "model.add(LSTM(units=64, return_sequences=True, input_shape=(n_past, dataset_train.shape[1])))\n",
        "\n",
        "# Adding 2nd LSTM layer\n",
        "model.add(LSTM(units=10, return_sequences=False))\n",
        "\n",
        "# Adding Dropout\n",
        "model.add(Dropout(0.25))\n",
        "\n",
        "# Output layer\n",
        "model.add(Dense(units=1, activation='linear'))\n",
        "\n",
        "# Compiling the Neural Network\n",
        "model.compile(optimizer = Adam(learning_rate=0.01), loss='mean_squared_error')"
      ],
      "execution_count": 82,
      "outputs": []
    },
    {
      "cell_type": "markdown",
      "metadata": {
        "id": "D-Gjqlf3Dv9q"
      },
      "source": [
        "Training"
      ]
    },
    {
      "cell_type": "code",
      "metadata": {
        "colab": {
          "base_uri": "https://localhost:8080/"
        },
        "id": "LRPCFpSNDuh6",
        "outputId": "f2e484f0-3bb8-4bf7-a97c-5fc01cb644ad"
      },
      "source": [
        "StopWatch.start(\"Train the model\")\n",
        "es = EarlyStopping(monitor='val_loss', min_delta=1e-10, patience=10, verbose=1)\n",
        "rlr = ReduceLROnPlateau(monitor='val_loss', factor=0.5, patience=10, verbose=1)\n",
        "mcp = ModelCheckpoint(filepath='weights.h5', monitor='val_loss', verbose=1, save_best_only=True, save_weights_only=True)\n",
        "\n",
        "tb = TensorBoard('logs')\n",
        "\n",
        "history = model.fit(X_train, y_train, shuffle=True, epochs=100, callbacks=[es, rlr, mcp, tb], validation_split=0.2, verbose=1, batch_size=256) #\n",
        "StopWatch.stop(\"Train the model\")\n",
        "StopWatch.status(\"Train the model\", True)"
      ],
      "execution_count": 83,
      "outputs": [
        {
          "output_type": "stream",
          "text": [
            "Epoch 1/100\n",
            "2/4 [==============>...............] - ETA: 0s - loss: 0.4299WARNING:tensorflow:Callbacks method `on_train_batch_end` is slow compared to the batch time (batch time: 0.2399s vs `on_train_batch_end` time: 0.5321s). Check your callbacks.\n",
            "4/4 [==============================] - ETA: 0s - loss: 0.3269\n",
            "Epoch 00001: val_loss improved from inf to 0.05986, saving model to weights.h5\n",
            "4/4 [==============================] - 2s 483ms/step - loss: 0.3269 - val_loss: 0.0599\n",
            "Epoch 2/100\n",
            "4/4 [==============================] - ETA: 0s - loss: 0.0946\n",
            "Epoch 00002: val_loss did not improve from 0.05986\n",
            "4/4 [==============================] - 1s 162ms/step - loss: 0.0946 - val_loss: 0.0757\n",
            "Epoch 3/100\n",
            "4/4 [==============================] - ETA: 0s - loss: 0.0757\n",
            "Epoch 00003: val_loss improved from 0.05986 to 0.02242, saving model to weights.h5\n",
            "4/4 [==============================] - 1s 163ms/step - loss: 0.0757 - val_loss: 0.0224\n",
            "Epoch 4/100\n",
            "4/4 [==============================] - ETA: 0s - loss: 0.0609\n",
            "Epoch 00004: val_loss did not improve from 0.02242\n",
            "4/4 [==============================] - 1s 167ms/step - loss: 0.0609 - val_loss: 0.0681\n",
            "Epoch 5/100\n",
            "4/4 [==============================] - ETA: 0s - loss: 0.0557\n",
            "Epoch 00005: val_loss did not improve from 0.02242\n",
            "4/4 [==============================] - 1s 170ms/step - loss: 0.0557 - val_loss: 0.0317\n",
            "Epoch 6/100\n",
            "4/4 [==============================] - ETA: 0s - loss: 0.0551\n",
            "Epoch 00006: val_loss did not improve from 0.02242\n",
            "4/4 [==============================] - 1s 164ms/step - loss: 0.0551 - val_loss: 0.0367\n",
            "Epoch 7/100\n",
            "4/4 [==============================] - ETA: 0s - loss: 0.0467\n",
            "Epoch 00007: val_loss did not improve from 0.02242\n",
            "4/4 [==============================] - 1s 166ms/step - loss: 0.0467 - val_loss: 0.0279\n",
            "Epoch 8/100\n",
            "4/4 [==============================] - ETA: 0s - loss: 0.0474\n",
            "Epoch 00008: val_loss improved from 0.02242 to 0.01531, saving model to weights.h5\n",
            "4/4 [==============================] - 1s 172ms/step - loss: 0.0474 - val_loss: 0.0153\n",
            "Epoch 9/100\n",
            "4/4 [==============================] - ETA: 0s - loss: 0.0479\n",
            "Epoch 00009: val_loss did not improve from 0.01531\n",
            "4/4 [==============================] - 1s 171ms/step - loss: 0.0479 - val_loss: 0.0499\n",
            "Epoch 10/100\n",
            "4/4 [==============================] - ETA: 0s - loss: 0.0481\n",
            "Epoch 00010: val_loss did not improve from 0.01531\n",
            "4/4 [==============================] - 1s 172ms/step - loss: 0.0481 - val_loss: 0.0340\n",
            "Epoch 11/100\n",
            "4/4 [==============================] - ETA: 0s - loss: 0.0457\n",
            "Epoch 00011: val_loss did not improve from 0.01531\n",
            "4/4 [==============================] - 1s 170ms/step - loss: 0.0457 - val_loss: 0.0331\n",
            "Epoch 12/100\n",
            "4/4 [==============================] - ETA: 0s - loss: 0.0461\n",
            "Epoch 00012: val_loss did not improve from 0.01531\n",
            "4/4 [==============================] - 1s 169ms/step - loss: 0.0461 - val_loss: 0.0274\n",
            "Epoch 13/100\n",
            "4/4 [==============================] - ETA: 0s - loss: 0.0478\n",
            "Epoch 00013: val_loss did not improve from 0.01531\n",
            "4/4 [==============================] - 1s 167ms/step - loss: 0.0478 - val_loss: 0.0207\n",
            "Epoch 14/100\n",
            "4/4 [==============================] - ETA: 0s - loss: 0.0491\n",
            "Epoch 00014: val_loss did not improve from 0.01531\n",
            "4/4 [==============================] - 1s 165ms/step - loss: 0.0491 - val_loss: 0.0609\n",
            "Epoch 15/100\n",
            "4/4 [==============================] - ETA: 0s - loss: 0.0438\n",
            "Epoch 00015: val_loss did not improve from 0.01531\n",
            "4/4 [==============================] - 1s 165ms/step - loss: 0.0438 - val_loss: 0.0193\n",
            "Epoch 16/100\n",
            "4/4 [==============================] - ETA: 0s - loss: 0.0444\n",
            "Epoch 00016: val_loss did not improve from 0.01531\n",
            "4/4 [==============================] - 1s 169ms/step - loss: 0.0444 - val_loss: 0.0494\n",
            "Epoch 17/100\n",
            "4/4 [==============================] - ETA: 0s - loss: 0.0444\n",
            "Epoch 00017: val_loss did not improve from 0.01531\n",
            "4/4 [==============================] - 1s 166ms/step - loss: 0.0444 - val_loss: 0.0157\n",
            "Epoch 18/100\n",
            "4/4 [==============================] - ETA: 0s - loss: 0.0440\n",
            "Epoch 00018: ReduceLROnPlateau reducing learning rate to 0.004999999888241291.\n",
            "\n",
            "Epoch 00018: val_loss did not improve from 0.01531\n",
            "4/4 [==============================] - 1s 164ms/step - loss: 0.0440 - val_loss: 0.0543\n",
            "Epoch 00018: early stopping\n"
          ],
          "name": "stdout"
        }
      ]
    },
    {
      "cell_type": "code",
      "metadata": {
        "colab": {
          "base_uri": "https://localhost:8080/",
          "height": 384
        },
        "id": "J5J84m_gP5_u",
        "outputId": "0088e915-1173-47c5-bd63-d86f5be2a779"
      },
      "source": [
        "epochloss=history.history['loss']\n",
        "epochs=range(len(epochloss)) # Get number of epochs\n",
        "\n",
        "\n",
        "#------------------------------------------------\n",
        "# Plot training and validation loss per epoch\n",
        "#------------------------------------------------\n",
        "plt.plot(epochs, epochloss, 'r')\n",
        "plt.title('Training loss')\n",
        "plt.xlabel(\"Epochs\")\n",
        "plt.ylabel(\"Loss\")\n",
        "plt.legend([\"Loss\"])\n",
        "\n",
        "plt.figure()\n"
      ],
      "execution_count": 84,
      "outputs": [
        {
          "output_type": "execute_result",
          "data": {
            "text/plain": [
              "<Figure size 1008x360 with 0 Axes>"
            ]
          },
          "metadata": {
            "tags": []
          },
          "execution_count": 84
        },
        {
          "output_type": "display_data",
          "data": {
            "image/png": "[encoded data removed]",
            "text/plain": [
              "<Figure size 1008x360 with 1 Axes>"
            ]
          },
          "metadata": {
            "tags": [],
            "needs_background": "light"
          }
        },
        {
          "output_type": "display_data",
          "data": {
            "text/plain": [
              "<Figure size 1008x360 with 0 Axes>"
            ]
          },
          "metadata": {
            "tags": []
          }
        }
      ]
    },
    {
      "cell_type": "markdown",
      "metadata": {
        "id": "ZOo1kuCVFDtx"
      },
      "source": [
        "Make Prediction"
      ]
    },
    {
      "cell_type": "code",
      "metadata": {
        "id": "NZMBiYcDFW9v"
      },
      "source": [
        "StopWatch.start(\"Predict data\")\n",
        "predictions_train = model.predict(X_train[n_past:])\n",
        "predictions_test = model.predict(x_test[n_past:])\n",
        "\n",
        "StopWatch.stop(\"Predict data\")\n",
        "StopWatch.status(\"Predict data\", True)"
      ],
      "execution_count": 85,
      "outputs": []
    },
    {
      "cell_type": "markdown",
      "metadata": {
        "id": "y8375kxLFn2r"
      },
      "source": [
        "Revert the scaled data to the original scale, and prepare the data for plotting visualization\n",
        "\n"
      ]
    },
    {
      "cell_type": "code",
      "metadata": {
        "id": "uiO2loaxF3_r"
      },
      "source": [
        "\n",
        "def datetime_to_timestamp(x):\n",
        "    '''\n",
        "        x : a given datetime value (datetime.date)\n",
        "    '''\n",
        "    return datetime.strptime(x.strftime('%m/%d/%Y'), '%m/%d/%Y')\n",
        "\n",
        "sc_predict = StandardScaler()\n",
        "sc_predict.fit_transform(training_set[:, 0:1])\n",
        "\n",
        "y_pred_train = sc_predict.inverse_transform(predictions_train)\n",
        "y_pred_test = sc_predict.inverse_transform(predictions_test)\n",
        "\n",
        "PREDICTION_TRAIN = pd.DataFrame(y_pred_train, columns=['Open']).set_index(pd.Series(datelist_train[2 * n_past + n_future -1:]))\n",
        "PREDICTION_TEST = pd.DataFrame(y_pred_test, columns=['Open']).set_index(pd.Series(datelist_test[2 * n_past + n_future -1:]))\n",
        "\n",
        "\n",
        "PREDICTION_TRAIN.index = PREDICTION_TRAIN.index.to_series().apply(datetime_to_timestamp)\n",
        "PREDICTION_TEST.index = PREDICTION_TEST.index.to_series().apply(datetime_to_timestamp)\n",
        "\n",
        "dataset_train.index = datelist_train\n",
        "dataset_test.index = datelist_test"
      ],
      "execution_count": 86,
      "outputs": []
    },
    {
      "cell_type": "code",
      "metadata": {
        "colab": {
          "base_uri": "https://localhost:8080/",
          "height": 360
        },
        "id": "bVew9XepPQ3c",
        "outputId": "abac7f7b-d99c-4b1f-f405-bd78f0a745f0"
      },
      "source": [
        "from pylab import rcParams\n",
        "rcParams['figure.figsize'] = 12, 5\n",
        "\n",
        "START_DATE_FOR_PLOTTING = pd.to_datetime(\"2010-01-04\") \n",
        "\n",
        "plt.plot(PREDICTION_TRAIN.loc[START_DATE_FOR_PLOTTING:].index, PREDICTION_TRAIN.loc[START_DATE_FOR_PLOTTING:]['Open'], color='orange', label='Predicted Price')\n",
        "plt.plot(dataset_train.loc[START_DATE_FOR_PLOTTING:].index, dataset_train.loc[START_DATE_FOR_PLOTTING:]['Open'], color='b', label='Actual Price')\n",
        "\n",
        "plt.grid(which='major', color='#cccccc', alpha=0.5)\n",
        "\n",
        "plt.legend(shadow=True)\n",
        "plt.title('Predictions vs Actual Prices for Train Data', family='Arial', fontsize=12)\n",
        "plt.xlabel('Timeline', family='Arial', fontsize=10)\n",
        "plt.ylabel('Price', family='Arial', fontsize=10)\n",
        "plt.xticks(rotation=45, fontsize=8)\n",
        "plt.show()"
      ],
      "execution_count": 87,
      "outputs": [
        {
          "output_type": "display_data",
          "data": {
            "image/png": "[encoded data removed]",
            "text/plain": [
              "<Figure size 864x360 with 1 Axes>"
            ]
          },
          "metadata": {
            "tags": [],
            "needs_background": "light"
          }
        }
      ]
    },
    {
      "cell_type": "code",
      "metadata": {
        "colab": {
          "base_uri": "https://localhost:8080/"
        },
        "id": "c7uDNF62Z946",
        "outputId": "7d8637e0-1370-405b-ee7d-0b2f23812b5c"
      },
      "source": [
        "import math\n",
        "import statistics\n",
        "rmse = np.sqrt(np.mean(np.power((PREDICTION_TRAIN.loc[START_DATE_FOR_PLOTTING:]['Open'] - dataset_train.loc[START_DATE_FOR_PLOTTING:]['Open']),2)))\n",
        "print(rmse)"
      ],
      "execution_count": 88,
      "outputs": [
        {
          "output_type": "stream",
          "text": [
            "96.29776042252264\n"
          ],
          "name": "stdout"
        }
      ]
    },
    {
      "cell_type": "code",
      "metadata": {
        "colab": {
          "base_uri": "https://localhost:8080/"
        },
        "id": "1Ea79_t-eXpq",
        "outputId": "c119d180-89c1-410e-d917-e774164df554"
      },
      "source": [
        "np.std(PREDICTION_TRAIN.loc[START_DATE_FOR_PLOTTING:]['Open'])"
      ],
      "execution_count": 89,
      "outputs": [
        {
          "output_type": "execute_result",
          "data": {
            "text/plain": [
              "557.667236328125"
            ]
          },
          "metadata": {
            "tags": []
          },
          "execution_count": 89
        }
      ]
    },
    {
      "cell_type": "code",
      "metadata": {
        "colab": {
          "base_uri": "https://localhost:8080/",
          "height": 370
        },
        "id": "yVuyfQTPZYjn",
        "outputId": "7b20f3b1-b101-42e7-c34d-66cdaa921407"
      },
      "source": [
        "from pylab import rcParams\n",
        "rcParams['figure.figsize'] = 14, 5\n",
        "\n",
        "START_DATE_FOR_PLOTTING = pd.to_datetime(\"2017-01-01\")\n",
        "\n",
        "plt.plot(PREDICTION_TEST.loc[START_DATE_FOR_PLOTTING:].index, PREDICTION_TEST.loc[START_DATE_FOR_PLOTTING:]['Open'], color='orange', label='Predicted Stock Price')\n",
        "plt.plot(dataset_test.loc[START_DATE_FOR_PLOTTING:].index, dataset_test.loc[START_DATE_FOR_PLOTTING:]['Open'], color='b', label='Actual Stock Price')\n",
        "\n",
        "plt.grid(which='major', color='#cccccc', alpha=0.5)\n",
        "\n",
        "plt.legend(shadow=True)\n",
        "plt.title('Prediction vs Actual Price in the Testing Data', family='Arial', fontsize=12)\n",
        "plt.xlabel('Timeline', family='Arial', fontsize=10)\n",
        "plt.ylabel('Price', family='Arial', fontsize=10)\n",
        "plt.xticks(rotation=45, fontsize=8)\n",
        "plt.show()"
      ],
      "execution_count": 90,
      "outputs": [
        {
          "output_type": "display_data",
          "data": {
            "image/png": "[encoded data removed]",
            "text/plain": [
              "<Figure size 1008x360 with 1 Axes>"
            ]
          },
          "metadata": {
            "tags": [],
            "needs_background": "light"
          }
        }
      ]
    },
    {
      "cell_type": "code",
      "metadata": {
        "colab": {
          "base_uri": "https://localhost:8080/"
        },
        "id": "q7fkoaXQaNsx",
        "outputId": "7c4dc0c6-54ab-4150-ab92-361d2d862c71"
      },
      "source": [
        "rmse = np.sqrt(np.mean(np.power((PREDICTION_TEST.loc[START_DATE_FOR_PLOTTING:]['Open'] - dataset_test.loc[START_DATE_FOR_PLOTTING:]['Open']),2)))\n",
        "print(rmse)"
      ],
      "execution_count": 91,
      "outputs": [
        {
          "output_type": "stream",
          "text": [
            "181.5351674252924\n"
          ],
          "name": "stdout"
        }
      ]
    },
    {
      "cell_type": "code",
      "metadata": {
        "id": "EatXritmceLa"
      },
      "source": [
        "rmse_data = [237.27992208443038, 583.0930105074565]"
      ],
      "execution_count": null,
      "outputs": []
    },
    {
      "cell_type": "code",
      "metadata": {
        "colab": {
          "base_uri": "https://localhost:8080/"
        },
        "id": "AvcrIB_ejPqS",
        "outputId": "4c4a7ace-aaa9-4df1-ebfa-1d770d225955"
      },
      "source": [
        "StopWatch.benchmark()"
      ],
      "execution_count": 92,
      "outputs": [
        {
          "output_type": "stream",
          "text": [
            "\n",
            "+---------------------+------------------------------------------------------------------+\n",
            "| Attribute           | Value                                                            |\n",
            "|---------------------+------------------------------------------------------------------|\n",
            "| BUG_REPORT_URL      | \"https://bugs.launchpad.net/ubuntu/\"                             |\n",
            "| DISTRIB_CODENAME    | bionic                                                           |\n",
            "| DISTRIB_DESCRIPTION | \"Ubuntu 18.04.5 LTS\"                                             |\n",
            "| DISTRIB_ID          | Ubuntu                                                           |\n",
            "| DISTRIB_RELEASE     | 18.04                                                            |\n",
            "| HOME_URL            | \"https://www.ubuntu.com/\"                                        |\n",
            "| ID                  | ubuntu                                                           |\n",
            "| ID_LIKE             | debian                                                           |\n",
            "| NAME                | \"Ubuntu\"                                                         |\n",
            "| PRETTY_NAME         | \"Ubuntu 18.04.5 LTS\"                                             |\n",
            "| PRIVACY_POLICY_URL  | \"https://www.ubuntu.com/legal/terms-and-policies/privacy-policy\" |\n",
            "| SUPPORT_URL         | \"https://help.ubuntu.com/\"                                       |\n",
            "| UBUNTU_CODENAME     | bionic                                                           |\n",
            "| VERSION             | \"18.04.5 LTS (Bionic Beaver)\"                                    |\n",
            "| VERSION_CODENAME    | bionic                                                           |\n",
            "| VERSION_ID          | \"18.04\"                                                          |\n",
            "| cpu_count           | 2                                                                |\n",
            "| mem.active          | 1.1 GiB                                                          |\n",
            "| mem.available       | 11.7 GiB                                                         |\n",
            "| mem.free            | 9.4 GiB                                                          |\n",
            "| mem.inactive        | 2.0 GiB                                                          |\n",
            "| mem.percent         | 7.6 %                                                            |\n",
            "| mem.total           | 12.7 GiB                                                         |\n",
            "| mem.used            | 1.1 GiB                                                          |\n",
            "| platform.version    | #1 SMP Thu Jul 23 08:00:38 PDT 2020                              |\n",
            "| python              | 3.6.9 (default, Oct  8 2020, 12:12:24)                           |\n",
            "|                     | [GCC 8.4.0]                                                      |\n",
            "| python.pip          | 19.3.1                                                           |\n",
            "| python.version      | 3.6.9                                                            |\n",
            "| sys.platform        | linux                                                            |\n",
            "| uname.machine       | x86_64                                                           |\n",
            "| uname.node          | a056fad1a2f7                                                     |\n",
            "| uname.processor     | x86_64                                                           |\n",
            "| uname.release       | 4.19.112+                                                        |\n",
            "| uname.system        | Linux                                                            |\n",
            "| uname.version       | #1 SMP Thu Jul 23 08:00:38 PDT 2020                              |\n",
            "| user                | collab                                                           |\n",
            "+---------------------+------------------------------------------------------------------+\n",
            "\n",
            "+----------------------------------+----------+--------+--------+---------------------+-------+--------------+--------+-------+-------------------------------------+\n",
            "| Name                             | Status   |   Time |    Sum | Start               | tag   | Node         | User   | OS    | Version                             |\n",
            "|----------------------------------+----------+--------+--------+---------------------+-------+--------------+--------+-------+-------------------------------------|\n",
            "| importdata                       | ok       |  0.236 |  0.236 | 2020-12-08 13:26:50 |       | a056fad1a2f7 | collab | Linux | #1 SMP Thu Jul 23 08:00:38 PDT 2020 |\n",
            "| import data                      | ok       |  0.217 |  0.365 | 2020-12-08 13:32:03 |       | a056fad1a2f7 | collab | Linux | #1 SMP Thu Jul 23 08:00:38 PDT 2020 |\n",
            "| Creating the train and test data | ok       |  0.011 |  0.011 | 2020-12-08 13:32:26 |       | a056fad1a2f7 | collab | Linux | #1 SMP Thu Jul 23 08:00:38 PDT 2020 |\n",
            "| Train the model                  | ok       | 21.578 | 21.578 | 2020-12-08 13:32:38 |       | a056fad1a2f7 | collab | Linux | #1 SMP Thu Jul 23 08:00:38 PDT 2020 |\n",
            "| Predict data                     | ok       |  1.771 |  1.771 | 2020-12-08 13:33:11 |       | a056fad1a2f7 | collab | Linux | #1 SMP Thu Jul 23 08:00:38 PDT 2020 |\n",
            "+----------------------------------+----------+--------+--------+---------------------+-------+--------------+--------+-------+-------------------------------------+\n",
            "\n",
            "# csv,timer,status,time,sum,start,tag,uname.node,user,uname.system,platform.version\n",
            "# csv,importdata,ok,0.236,0.236,2020-12-08 13:26:50,,a056fad1a2f7,collab,Linux,#1 SMP Thu Jul 23 08:00:38 PDT 2020\n",
            "# csv,import data,ok,0.217,0.365,2020-12-08 13:32:03,,a056fad1a2f7,collab,Linux,#1 SMP Thu Jul 23 08:00:38 PDT 2020\n",
            "# csv,Creating the train and test data,ok,0.011,0.011,2020-12-08 13:32:26,,a056fad1a2f7,collab,Linux,#1 SMP Thu Jul 23 08:00:38 PDT 2020\n",
            "# csv,Train the model,ok,21.578,21.578,2020-12-08 13:32:38,,a056fad1a2f7,collab,Linux,#1 SMP Thu Jul 23 08:00:38 PDT 2020\n",
            "# csv,Predict data,ok,1.771,1.771,2020-12-08 13:33:11,,a056fad1a2f7,collab,Linux,#1 SMP Thu Jul 23 08:00:38 PDT 2020\n",
            "\n"
          ],
          "name": "stdout"
        }
      ]
    }
  ]
}